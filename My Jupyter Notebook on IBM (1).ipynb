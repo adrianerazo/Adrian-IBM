{
  "metadata": {
    "kernelspec": {
      "name": "python",
      "display_name": "Pyolite",
      "language": "python"
    },
    "language_info": {
      "codemirror_mode": {
        "name": "python",
        "version": 3
      },
      "file_extension": ".py",
      "mimetype": "text/x-python",
      "name": "python",
      "nbconvert_exporter": "python",
      "pygments_lexer": "ipython3",
      "version": "3.8"
    }
  },
  "nbformat_minor": 4,
  "nbformat": 4,
  "cells": [
    {
      "cell_type": "markdown",
      "source": "My Jupiter Notebook",
      "metadata": {}
    },
    {
      "cell_type": "markdown",
      "source": "Adrian Erazo\n\nProject Manager",
      "metadata": {}
    },
    {
      "cell_type": "markdown",
      "source": "I am interested in data science because i wish to improve my abilities to generate insights.",
      "metadata": {}
    },
    {
      "cell_type": "markdown",
      "source": "the following code tests the Gauss Formula",
      "metadata": {}
    },
    {
      "cell_type": "code",
      "source": "def gauss(n) :\n    return (n*(n+1))/2\n\ngauss(100) == sum(range(101))",
      "metadata": {
        "trusted": true
      },
      "execution_count": 7,
      "outputs": [
        {
          "execution_count": 7,
          "output_type": "execute_result",
          "data": {
            "text/plain": "True"
          },
          "metadata": {}
        }
      ]
    },
    {
      "cell_type": "code",
      "source": "",
      "metadata": {},
      "execution_count": null,
      "outputs": []
    }
  ]
}